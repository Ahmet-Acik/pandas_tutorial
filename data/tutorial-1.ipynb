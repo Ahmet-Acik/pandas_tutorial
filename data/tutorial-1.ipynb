{
 "cells": [
  {
   "cell_type": "markdown",
   "metadata": {},
   "source": [
    "# Import Required Libraries\n",
    "Import the necessary libraries, including Pandas and NumPy."
   ]
  },
  {
   "cell_type": "code",
   "execution_count": 6,
   "metadata": {},
   "outputs": [],
   "source": [
    "# Import the necessary libraries, including Pandas and NumPy\n",
    "import pandas as pd\n",
    "import numpy as np"
   ]
  },
  {
   "cell_type": "markdown",
   "metadata": {},
   "source": [
    "# Load Data into DataFrame\n",
    "Load data from a CSV file into a Pandas DataFrame."
   ]
  },
  {
   "cell_type": "code",
   "execution_count": 7,
   "metadata": {},
   "outputs": [
    {
     "data": {
      "text/html": [
       "<div>\n",
       "<style scoped>\n",
       "    .dataframe tbody tr th:only-of-type {\n",
       "        vertical-align: middle;\n",
       "    }\n",
       "\n",
       "    .dataframe tbody tr th {\n",
       "        vertical-align: top;\n",
       "    }\n",
       "\n",
       "    .dataframe thead th {\n",
       "        text-align: right;\n",
       "    }\n",
       "</style>\n",
       "<table border=\"1\" class=\"dataframe\">\n",
       "  <thead>\n",
       "    <tr style=\"text-align: right;\">\n",
       "      <th></th>\n",
       "      <th>id</th>\n",
       "      <th>name</th>\n",
       "      <th>age</th>\n",
       "      <th>department</th>\n",
       "      <th>salary</th>\n",
       "    </tr>\n",
       "  </thead>\n",
       "  <tbody>\n",
       "    <tr>\n",
       "      <th>0</th>\n",
       "      <td>1</td>\n",
       "      <td>John Doe</td>\n",
       "      <td>28</td>\n",
       "      <td>Engineering</td>\n",
       "      <td>70000</td>\n",
       "    </tr>\n",
       "    <tr>\n",
       "      <th>1</th>\n",
       "      <td>2</td>\n",
       "      <td>Jane Smith</td>\n",
       "      <td>34</td>\n",
       "      <td>Marketing</td>\n",
       "      <td>80000</td>\n",
       "    </tr>\n",
       "    <tr>\n",
       "      <th>2</th>\n",
       "      <td>3</td>\n",
       "      <td>Emily Davis</td>\n",
       "      <td>22</td>\n",
       "      <td>Sales</td>\n",
       "      <td>45000</td>\n",
       "    </tr>\n",
       "    <tr>\n",
       "      <th>3</th>\n",
       "      <td>4</td>\n",
       "      <td>Michael Brown</td>\n",
       "      <td>45</td>\n",
       "      <td>HR</td>\n",
       "      <td>60000</td>\n",
       "    </tr>\n",
       "    <tr>\n",
       "      <th>4</th>\n",
       "      <td>5</td>\n",
       "      <td>Jessica Wilson</td>\n",
       "      <td>30</td>\n",
       "      <td>Engineering</td>\n",
       "      <td>75000</td>\n",
       "    </tr>\n",
       "  </tbody>\n",
       "</table>\n",
       "</div>"
      ],
      "text/plain": [
       "   id            name  age   department  salary\n",
       "0   1        John Doe   28  Engineering   70000\n",
       "1   2      Jane Smith   34    Marketing   80000\n",
       "2   3     Emily Davis   22        Sales   45000\n",
       "3   4   Michael Brown   45           HR   60000\n",
       "4   5  Jessica Wilson   30  Engineering   75000"
      ]
     },
     "execution_count": 7,
     "metadata": {},
     "output_type": "execute_result"
    }
   ],
   "source": [
    "# Load Data into DataFrame\n",
    "\n",
    "# Load data from a CSV file into a Pandas DataFrame\n",
    "df = pd.read_csv('data.csv')\n",
    "\n",
    "# Display the first few rows of the DataFrame\n",
    "df.head()"
   ]
  },
  {
   "cell_type": "markdown",
   "metadata": {},
   "source": [
    "# DataFrame Basic Operations\n",
    "Perform basic operations on the DataFrame, such as selecting columns, filtering rows, and sorting data."
   ]
  },
  {
   "cell_type": "code",
   "execution_count": 9,
   "metadata": {},
   "outputs": [
    {
     "name": "stdout",
     "output_type": "stream",
     "text": [
      "\n",
      "Selected columns (name, department):\n",
      "             name   department\n",
      "0        John Doe  Engineering\n",
      "1      Jane Smith    Marketing\n",
      "2     Emily Davis        Sales\n",
      "3   Michael Brown           HR\n",
      "4  Jessica Wilson  Engineering\n",
      "\n",
      "Filtered rows where salary > 60000:\n",
      "   id             name  age   department  salary\n",
      "0   1         John Doe   28  Engineering   70000\n",
      "1   2       Jane Smith   34    Marketing   80000\n",
      "4   5   Jessica Wilson   30  Engineering   75000\n",
      "5   6  Daniel Martinez   40    Marketing   85000\n",
      "7   8   James Anderson   50           HR   65000\n"
     ]
    }
   ],
   "source": [
    "import pandas as pd\n",
    "\n",
    "# DataFrame Basic Operations\n",
    "\n",
    "# Select specific columns from the DataFrame\n",
    "selected_columns = df[['name', 'department']]\n",
    "print(\"\\nSelected columns (name, department):\")\n",
    "print(selected_columns.head())\n",
    "\n",
    "# Filter rows based on a condition\n",
    "filtered_rows = df[df['salary'] > 60000]\n",
    "print(\"\\nFiltered rows where salary > 60000:\")\n",
    "print(filtered_rows.head())"
   ]
  },
  {
   "cell_type": "markdown",
   "metadata": {},
   "source": [
    "# Data Cleaning\n",
    "Clean the data by handling missing values, removing duplicates, and transforming data types."
   ]
  },
  {
   "cell_type": "code",
   "execution_count": null,
   "metadata": {},
   "outputs": [],
   "source": [
    "# Data Cleaning\n",
    "\n",
    "# Handle missing values by filling them with the mean of the column\n",
    "df.fillna(df.mean(), inplace=True)\n",
    "\n",
    "# Remove duplicate rows\n",
    "df.drop_duplicates(inplace=True)\n",
    "\n",
    "# Transform data types, for example, convert a column to datetime\n",
    "df['date_column'] = pd.to_datetime(df['date_column'])\n",
    "\n",
    "# Display the cleaned DataFrame\n",
    "df.head()"
   ]
  },
  {
   "cell_type": "markdown",
   "metadata": {},
   "source": [
    "# Data Analysis\n",
    "Analyze the data using descriptive statistics, groupby operations, and pivot tables."
   ]
  },
  {
   "cell_type": "code",
   "execution_count": null,
   "metadata": {},
   "outputs": [],
   "source": [
    "# Data Analysis\n",
    "\n",
    "# Descriptive statistics\n",
    "df.describe()\n",
    "\n",
    "# Groupby operations\n",
    "grouped_df = df.groupby('column1').mean()\n",
    "grouped_df.head()\n",
    "\n",
    "# Pivot tables\n",
    "pivot_table = df.pivot_table(values='column2', index='column1', columns='column3', aggfunc=np.mean)\n",
    "pivot_table.head()"
   ]
  },
  {
   "cell_type": "markdown",
   "metadata": {},
   "source": [
    "# Data Visualization\n",
    "Visualize the data using libraries such as Matplotlib and Seaborn."
   ]
  },
  {
   "cell_type": "code",
   "execution_count": null,
   "metadata": {},
   "outputs": [],
   "source": [
    "# Data Visualization\n",
    "\n",
    "# Import necessary libraries for visualization\n",
    "import matplotlib.pyplot as plt\n",
    "import seaborn as sns\n",
    "\n",
    "# Set the aesthetic style of the plots\n",
    "sns.set_style(\"whitegrid\")\n",
    "\n",
    "# Plot a histogram of a specific column\n",
    "plt.figure(figsize=(10, 6))\n",
    "sns.histplot(df['column1'], bins=30, kde=True)\n",
    "plt.title('Histogram of Column1')\n",
    "plt.xlabel('Column1')\n",
    "plt.ylabel('Frequency')\n",
    "plt.show()\n",
    "\n",
    "# Plot a scatter plot between two columns\n",
    "plt.figure(figsize=(10, 6))\n",
    "sns.scatterplot(x='column1', y='column2', data=df)\n",
    "plt.title('Scatter Plot of Column1 vs Column2')\n",
    "plt.xlabel('Column1')\n",
    "plt.ylabel('Column2')\n",
    "plt.show()\n",
    "\n",
    "# Plot a box plot of a specific column\n",
    "plt.figure(figsize=(10, 6))\n",
    "sns.boxplot(x='column3', y='column2', data=df)\n",
    "plt.title('Box Plot of Column2 by Column3')\n",
    "plt.xlabel('Column3')\n",
    "plt.ylabel('Column2')\n",
    "plt.show()\n",
    "\n",
    "# Plot a heatmap of the correlation matrix\n",
    "plt.figure(figsize=(12, 8))\n",
    "correlation_matrix = df.corr()\n",
    "sns.heatmap(correlation_matrix, annot=True, cmap='coolwarm', linewidths=0.5)\n",
    "plt.title('Heatmap of Correlation Matrix')\n",
    "plt.show()"
   ]
  }
 ],
 "metadata": {
  "kernelspec": {
   "display_name": "myenv",
   "language": "python",
   "name": "python3"
  },
  "language_info": {
   "codemirror_mode": {
    "name": "ipython",
    "version": 3
   },
   "file_extension": ".py",
   "mimetype": "text/x-python",
   "name": "python",
   "nbconvert_exporter": "python",
   "pygments_lexer": "ipython3",
   "version": "3.13.0"
  }
 },
 "nbformat": 4,
 "nbformat_minor": 2
}

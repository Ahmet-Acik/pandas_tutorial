{
 "cells": [
  {
   "cell_type": "markdown",
   "metadata": {},
   "source": [
    "# Import Required Libraries\n",
    "Import the necessary libraries, including Pandas and NumPy."
   ]
  },
  {
   "cell_type": "code",
   "execution_count": 6,
   "metadata": {},
   "outputs": [],
   "source": [
    "# Import the necessary libraries, including Pandas and NumPy\n",
    "import pandas as pd\n",
    "import numpy as np"
   ]
  },
  {
   "cell_type": "markdown",
   "metadata": {},
   "source": [
    "# Load Data into DataFrame\n",
    "Load data from a CSV file into a Pandas DataFrame."
   ]
  },
  {
   "cell_type": "code",
   "execution_count": 7,
   "metadata": {},
   "outputs": [
    {
     "data": {
      "text/html": [
       "<div>\n",
       "<style scoped>\n",
       "    .dataframe tbody tr th:only-of-type {\n",
       "        vertical-align: middle;\n",
       "    }\n",
       "\n",
       "    .dataframe tbody tr th {\n",
       "        vertical-align: top;\n",
       "    }\n",
       "\n",
       "    .dataframe thead th {\n",
       "        text-align: right;\n",
       "    }\n",
       "</style>\n",
       "<table border=\"1\" class=\"dataframe\">\n",
       "  <thead>\n",
       "    <tr style=\"text-align: right;\">\n",
       "      <th></th>\n",
       "      <th>id</th>\n",
       "      <th>name</th>\n",
       "      <th>age</th>\n",
       "      <th>department</th>\n",
       "      <th>salary</th>\n",
       "    </tr>\n",
       "  </thead>\n",
       "  <tbody>\n",
       "    <tr>\n",
       "      <th>0</th>\n",
       "      <td>1</td>\n",
       "      <td>John Doe</td>\n",
       "      <td>28</td>\n",
       "      <td>Engineering</td>\n",
       "      <td>70000</td>\n",
       "    </tr>\n",
       "    <tr>\n",
       "      <th>1</th>\n",
       "      <td>2</td>\n",
       "      <td>Jane Smith</td>\n",
       "      <td>34</td>\n",
       "      <td>Marketing</td>\n",
       "      <td>80000</td>\n",
       "    </tr>\n",
       "    <tr>\n",
       "      <th>2</th>\n",
       "      <td>3</td>\n",
       "      <td>Emily Davis</td>\n",
       "      <td>22</td>\n",
       "      <td>Sales</td>\n",
       "      <td>45000</td>\n",
       "    </tr>\n",
       "    <tr>\n",
       "      <th>3</th>\n",
       "      <td>4</td>\n",
       "      <td>Michael Brown</td>\n",
       "      <td>45</td>\n",
       "      <td>HR</td>\n",
       "      <td>60000</td>\n",
       "    </tr>\n",
       "    <tr>\n",
       "      <th>4</th>\n",
       "      <td>5</td>\n",
       "      <td>Jessica Wilson</td>\n",
       "      <td>30</td>\n",
       "      <td>Engineering</td>\n",
       "      <td>75000</td>\n",
       "    </tr>\n",
       "  </tbody>\n",
       "</table>\n",
       "</div>"
      ],
      "text/plain": [
       "   id            name  age   department  salary\n",
       "0   1        John Doe   28  Engineering   70000\n",
       "1   2      Jane Smith   34    Marketing   80000\n",
       "2   3     Emily Davis   22        Sales   45000\n",
       "3   4   Michael Brown   45           HR   60000\n",
       "4   5  Jessica Wilson   30  Engineering   75000"
      ]
     },
     "execution_count": 7,
     "metadata": {},
     "output_type": "execute_result"
    }
   ],
   "source": [
    "# Load Data into DataFrame\n",
    "\n",
    "# Load data from a CSV file into a Pandas DataFrame\n",
    "df = pd.read_csv('data.csv')\n",
    "\n",
    "# Display the first few rows of the DataFrame\n",
    "df.head()"
   ]
  },
  {
   "cell_type": "markdown",
   "metadata": {},
   "source": [
    "# DataFrame Basic Operations\n",
    "Perform basic operations on the DataFrame, such as selecting columns, filtering rows, and sorting data."
   ]
  },
  {
   "cell_type": "code",
   "execution_count": 9,
   "metadata": {},
   "outputs": [
    {
     "name": "stdout",
     "output_type": "stream",
     "text": [
      "\n",
      "Selected columns (name, department):\n",
      "             name   department\n",
      "0        John Doe  Engineering\n",
      "1      Jane Smith    Marketing\n",
      "2     Emily Davis        Sales\n",
      "3   Michael Brown           HR\n",
      "4  Jessica Wilson  Engineering\n",
      "\n",
      "Filtered rows where salary > 60000:\n",
      "   id             name  age   department  salary\n",
      "0   1         John Doe   28  Engineering   70000\n",
      "1   2       Jane Smith   34    Marketing   80000\n",
      "4   5   Jessica Wilson   30  Engineering   75000\n",
      "5   6  Daniel Martinez   40    Marketing   85000\n",
      "7   8   James Anderson   50           HR   65000\n"
     ]
    }
   ],
   "source": [
    "import pandas as pd\n",
    "\n",
    "# DataFrame Basic Operations\n",
    "\n",
    "# Select specific columns from the DataFrame\n",
    "selected_columns = df[['name', 'department']]\n",
    "print(\"\\nSelected columns (name, department):\")\n",
    "print(selected_columns.head())\n",
    "\n",
    "# Filter rows based on a condition\n",
    "filtered_rows = df[df['salary'] > 60000]\n",
    "print(\"\\nFiltered rows where salary > 60000:\")\n",
    "print(filtered_rows.head())"
   ]
  },
  {
   "cell_type": "markdown",
   "metadata": {},
   "source": [
    "# Data Cleaning\n",
    "Clean the data by handling missing values, removing duplicates, and transforming data types."
   ]
  },
  {
   "cell_type": "code",
   "execution_count": 8,
   "metadata": {},
   "outputs": [
    {
     "name": "stdout",
     "output_type": "stream",
     "text": [
      "\n",
      "Check for missing values:\n",
      "filepath: data.csv    0\n",
      "dtype: int64\n"
     ]
    },
    {
     "data": {
      "text/html": [
       "<div>\n",
       "<style scoped>\n",
       "    .dataframe tbody tr th:only-of-type {\n",
       "        vertical-align: middle;\n",
       "    }\n",
       "\n",
       "    .dataframe tbody tr th {\n",
       "        vertical-align: top;\n",
       "    }\n",
       "\n",
       "    .dataframe thead th {\n",
       "        text-align: right;\n",
       "    }\n",
       "</style>\n",
       "<table border=\"1\" class=\"dataframe\">\n",
       "  <thead>\n",
       "    <tr style=\"text-align: right;\">\n",
       "      <th></th>\n",
       "      <th></th>\n",
       "      <th></th>\n",
       "      <th>filepath: data.csv</th>\n",
       "    </tr>\n",
       "  </thead>\n",
       "  <tbody>\n",
       "    <tr>\n",
       "      <th>id</th>\n",
       "      <th>column1</th>\n",
       "      <th>column2</th>\n",
       "      <td>column3</td>\n",
       "    </tr>\n",
       "    <tr>\n",
       "      <th>1</th>\n",
       "      <th>10</th>\n",
       "      <th>100</th>\n",
       "      <td>A</td>\n",
       "    </tr>\n",
       "    <tr>\n",
       "      <th>2</th>\n",
       "      <th>20</th>\n",
       "      <th>200</th>\n",
       "      <td>B</td>\n",
       "    </tr>\n",
       "    <tr>\n",
       "      <th>3</th>\n",
       "      <th>30</th>\n",
       "      <th>300</th>\n",
       "      <td>A</td>\n",
       "    </tr>\n",
       "    <tr>\n",
       "      <th>4</th>\n",
       "      <th>40</th>\n",
       "      <th>400</th>\n",
       "      <td>B</td>\n",
       "    </tr>\n",
       "  </tbody>\n",
       "</table>\n",
       "</div>"
      ],
      "text/plain": [
       "                   filepath: data.csv\n",
       "id column1 column2            column3\n",
       "1  10      100                      A\n",
       "2  20      200                      B\n",
       "3  30      300                      A\n",
       "4  40      400                      B"
      ]
     },
     "execution_count": 8,
     "metadata": {},
     "output_type": "execute_result"
    }
   ],
   "source": [
    "# Data Cleaning\n",
    "\n",
    "# Check for missing values\n",
    "print(\"\\nCheck for missing values:\")\n",
    "print(df.isnull().sum())\n",
    "\n",
    "# Fill missing values (if any)\n",
    "# df['column_name'].fillna(value, inplace=True)\n",
    "\n",
    "# Display the cleaned DataFrame\n",
    "df.head()"
   ]
  },
  {
   "cell_type": "markdown",
   "metadata": {},
   "source": [
    "# Data Analysis\n",
    "Analyze the data using descriptive statistics, groupby operations, and pivot tables."
   ]
  },
  {
   "cell_type": "code",
   "execution_count": 9,
   "metadata": {},
   "outputs": [
    {
     "name": "stdout",
     "output_type": "stream",
     "text": [
      "\n",
      "Basic statistics of the DataFrame:\n",
      "       filepath: data.csv\n",
      "count                  11\n",
      "unique                  3\n",
      "top                     A\n",
      "freq                    5\n",
      "\n",
      "Columns 'department' and/or 'salary' do not exist in the DataFrame.\n"
     ]
    }
   ],
   "source": [
    "# Data Analysis\n",
    "\n",
    "# Calculate basic statistics\n",
    "print(\"\\nBasic statistics of the DataFrame:\")\n",
    "print(df.describe())\n",
    "\n",
    "# Group by department and calculate mean salary\n",
    "if 'department' in df.columns and 'salary' in df.columns:\n",
    "\tmean_salary_by_department = df.groupby('department')['salary'].mean()\n",
    "\tprint(\"\\nMean salary by department:\")\n",
    "\tprint(mean_salary_by_department)\n",
    "else:\n",
    "\tprint(\"\\nColumns 'department' and/or 'salary' do not exist in the DataFrame.\")"
   ]
  },
  {
   "cell_type": "markdown",
   "metadata": {},
   "source": [
    "# Data Visualization\n",
    "Visualize the data using libraries such as Matplotlib and Seaborn."
   ]
  },
  {
   "cell_type": "code",
   "execution_count": 10,
   "metadata": {},
   "outputs": [
    {
     "name": "stdout",
     "output_type": "stream",
     "text": [
      "Variable 'mean_salary_by_department' is not defined.\n"
     ]
    }
   ],
   "source": [
    "# Data Visualization\n",
    "\n",
    "import matplotlib.pyplot as plt\n",
    "\n",
    "# Ensure mean_salary_by_department is defined\n",
    "if 'mean_salary_by_department' in globals():\n",
    "\t# Plot mean salary by department\n",
    "\tmean_salary_by_department.plot(kind='bar')\n",
    "\tplt.title('Mean Salary by Department')\n",
    "\tplt.xlabel('Department')\n",
    "\tplt.ylabel('Mean Salary')\n",
    "\tplt.show()\n",
    "else:\n",
    "\tprint(\"Variable 'mean_salary_by_department' is not defined.\")"
   ]
  },
  {
   "cell_type": "code",
   "execution_count": 11,
   "metadata": {},
   "outputs": [
    {
     "name": "stdout",
     "output_type": "stream",
     "text": [
      "First few rows of the DataFrame:\n",
      "                   filepath: data.csv\n",
      "id column1 column2            column3\n",
      "1  10      100                      A\n",
      "2  20      200                      B\n",
      "3  30      300                      A\n",
      "4  40      400                      B\n",
      "\n",
      "Columns 'name' and 'department' do not exist in the DataFrame.\n",
      "\n",
      "Column 'salary' does not exist in the DataFrame.\n",
      "\n",
      "Check for missing values:\n",
      "filepath: data.csv    0\n",
      "dtype: int64\n",
      "\n",
      "Basic statistics of the DataFrame:\n",
      "       filepath: data.csv\n",
      "count                  11\n",
      "unique                  3\n",
      "top                     A\n",
      "freq                    5\n",
      "\n",
      "Columns 'department' and/or 'salary' do not exist in the DataFrame.\n",
      "Requirement already satisfied: matplotlib in /Users/drahmetacik/Projects/pandas_tutorial/myenv/lib/python3.13/site-packages (3.10.0)\n",
      "Requirement already satisfied: contourpy>=1.0.1 in /Users/drahmetacik/Projects/pandas_tutorial/myenv/lib/python3.13/site-packages (from matplotlib) (1.3.1)\n",
      "Requirement already satisfied: cycler>=0.10 in /Users/drahmetacik/Projects/pandas_tutorial/myenv/lib/python3.13/site-packages (from matplotlib) (0.12.1)\n",
      "Requirement already satisfied: fonttools>=4.22.0 in /Users/drahmetacik/Projects/pandas_tutorial/myenv/lib/python3.13/site-packages (from matplotlib) (4.55.3)\n",
      "Requirement already satisfied: kiwisolver>=1.3.1 in /Users/drahmetacik/Projects/pandas_tutorial/myenv/lib/python3.13/site-packages (from matplotlib) (1.4.7)\n",
      "Requirement already satisfied: numpy>=1.23 in /Users/drahmetacik/Projects/pandas_tutorial/myenv/lib/python3.13/site-packages (from matplotlib) (2.1.3)\n",
      "Requirement already satisfied: packaging>=20.0 in /Users/drahmetacik/Projects/pandas_tutorial/myenv/lib/python3.13/site-packages (from matplotlib) (24.1)\n",
      "Requirement already satisfied: pillow>=8 in /Users/drahmetacik/Projects/pandas_tutorial/myenv/lib/python3.13/site-packages (from matplotlib) (11.0.0)\n",
      "Requirement already satisfied: pyparsing>=2.3.1 in /Users/drahmetacik/Projects/pandas_tutorial/myenv/lib/python3.13/site-packages (from matplotlib) (3.2.0)\n",
      "Requirement already satisfied: python-dateutil>=2.7 in /Users/drahmetacik/Projects/pandas_tutorial/myenv/lib/python3.13/site-packages (from matplotlib) (2.9.0.post0)\n",
      "Requirement already satisfied: six>=1.5 in /Users/drahmetacik/Projects/pandas_tutorial/myenv/lib/python3.13/site-packages (from python-dateutil>=2.7->matplotlib) (1.16.0)\n",
      "Note: you may need to restart the kernel to use updated packages.\n",
      "\n",
      "Columns 'department' and/or 'salary' do not exist in the DataFrame.\n"
     ]
    }
   ],
   "source": [
    "# Import Required Libraries\n",
    "import pandas as pd\n",
    "\n",
    "# Load Data into DataFrame\n",
    "df = pd.read_csv('data2.csv')\n",
    "\n",
    "# Display the first few rows of the DataFrame\n",
    "print(\"First few rows of the DataFrame:\")\n",
    "print(df.head())\n",
    "\n",
    "# DataFrame Basic Operations\n",
    "\n",
    "# Select specific columns from the DataFrame\n",
    "# Ensure the columns exist in the DataFrame\n",
    "if 'name' in df.columns and 'department' in df.columns:\n",
    "\tselected_columns = df[['name', 'department']]\n",
    "\tprint(\"\\nSelected columns (name, department):\")\n",
    "\tprint(selected_columns.head())\n",
    "else:\n",
    "\tprint(\"\\nColumns 'name' and 'department' do not exist in the DataFrame.\")\n",
    "\n",
    "# Filter rows based on a condition\n",
    "if 'salary' in df.columns:\n",
    "\tfiltered_rows = df[df['salary'] > 60000]\n",
    "\tprint(\"\\nFiltered rows where salary > 60000:\")\n",
    "\tprint(filtered_rows.head())\n",
    "else:\n",
    "\tprint(\"\\nColumn 'salary' does not exist in the DataFrame.\")\n",
    "\n",
    "# Data Cleaning\n",
    "\n",
    "# Check for missing values\n",
    "print(\"\\nCheck for missing values:\")\n",
    "print(df.isnull().sum())\n",
    "\n",
    "# Fill missing values (if any)\n",
    "# df['column_name'].fillna(value, inplace=True)\n",
    "\n",
    "# Data Analysis\n",
    "\n",
    "# Calculate basic statistics\n",
    "print(\"\\nBasic statistics of the DataFrame:\")\n",
    "print(df.describe())\n",
    "\n",
    "# Group by department and calculate mean salary\n",
    "if 'department' in df.columns and 'salary' in df.columns:\n",
    "\tmean_salary_by_department = df.groupby('department')['salary'].mean()\n",
    "\tprint(\"\\nMean salary by department:\")\n",
    "\tprint(mean_salary_by_department)\n",
    "else:\n",
    "\tprint(\"\\nColumns 'department' and/or 'salary' do not exist in the DataFrame.\")\n",
    "\n",
    "# Data Visualization\n",
    "\n",
    "%pip install matplotlib\n",
    "import matplotlib.pyplot as plt\n",
    "\n",
    "# Plot mean salary by department\n",
    "if 'department' in df.columns and 'salary' in df.columns:\n",
    "\tmean_salary_by_department.plot(kind='bar')\n",
    "\tplt.title('Mean Salary by Department')\n",
    "\tplt.xlabel('Department')\n",
    "\tplt.ylabel('Mean Salary')\n",
    "\tplt.show()\n",
    "else:\n",
    "\tprint(\"\\nColumns 'department' and/or 'salary' do not exist in the DataFrame.\")"
   ]
  },
  {
   "cell_type": "code",
   "execution_count": 14,
   "metadata": {},
   "outputs": [
    {
     "name": "stdout",
     "output_type": "stream",
     "text": [
      "Requirement already satisfied: seaborn in /Users/drahmetacik/Projects/pandas_tutorial/myenv/lib/python3.13/site-packages (0.13.2)\n",
      "Requirement already satisfied: numpy!=1.24.0,>=1.20 in /Users/drahmetacik/Projects/pandas_tutorial/myenv/lib/python3.13/site-packages (from seaborn) (2.1.3)\n",
      "Requirement already satisfied: pandas>=1.2 in /Users/drahmetacik/Projects/pandas_tutorial/myenv/lib/python3.13/site-packages (from seaborn) (2.2.3)\n",
      "Requirement already satisfied: matplotlib!=3.6.1,>=3.4 in /Users/drahmetacik/Projects/pandas_tutorial/myenv/lib/python3.13/site-packages (from seaborn) (3.10.0)\n",
      "Requirement already satisfied: contourpy>=1.0.1 in /Users/drahmetacik/Projects/pandas_tutorial/myenv/lib/python3.13/site-packages (from matplotlib!=3.6.1,>=3.4->seaborn) (1.3.1)\n",
      "Requirement already satisfied: cycler>=0.10 in /Users/drahmetacik/Projects/pandas_tutorial/myenv/lib/python3.13/site-packages (from matplotlib!=3.6.1,>=3.4->seaborn) (0.12.1)\n",
      "Requirement already satisfied: fonttools>=4.22.0 in /Users/drahmetacik/Projects/pandas_tutorial/myenv/lib/python3.13/site-packages (from matplotlib!=3.6.1,>=3.4->seaborn) (4.55.3)\n",
      "Requirement already satisfied: kiwisolver>=1.3.1 in /Users/drahmetacik/Projects/pandas_tutorial/myenv/lib/python3.13/site-packages (from matplotlib!=3.6.1,>=3.4->seaborn) (1.4.7)\n",
      "Requirement already satisfied: packaging>=20.0 in /Users/drahmetacik/Projects/pandas_tutorial/myenv/lib/python3.13/site-packages (from matplotlib!=3.6.1,>=3.4->seaborn) (24.1)\n",
      "Requirement already satisfied: pillow>=8 in /Users/drahmetacik/Projects/pandas_tutorial/myenv/lib/python3.13/site-packages (from matplotlib!=3.6.1,>=3.4->seaborn) (11.0.0)\n",
      "Requirement already satisfied: pyparsing>=2.3.1 in /Users/drahmetacik/Projects/pandas_tutorial/myenv/lib/python3.13/site-packages (from matplotlib!=3.6.1,>=3.4->seaborn) (3.2.0)\n",
      "Requirement already satisfied: python-dateutil>=2.7 in /Users/drahmetacik/Projects/pandas_tutorial/myenv/lib/python3.13/site-packages (from matplotlib!=3.6.1,>=3.4->seaborn) (2.9.0.post0)\n",
      "Requirement already satisfied: pytz>=2020.1 in /Users/drahmetacik/Projects/pandas_tutorial/myenv/lib/python3.13/site-packages (from pandas>=1.2->seaborn) (2024.2)\n",
      "Requirement already satisfied: tzdata>=2022.7 in /Users/drahmetacik/Projects/pandas_tutorial/myenv/lib/python3.13/site-packages (from pandas>=1.2->seaborn) (2024.2)\n",
      "Requirement already satisfied: six>=1.5 in /Users/drahmetacik/Projects/pandas_tutorial/myenv/lib/python3.13/site-packages (from python-dateutil>=2.7->matplotlib!=3.6.1,>=3.4->seaborn) (1.16.0)\n",
      "Note: you may need to restart the kernel to use updated packages.\n",
      "The DataFrame does not contain the required columns: 'column1', 'column2', 'column3'\n"
     ]
    }
   ],
   "source": [
    "# Import Required Libraries\n",
    "%pip install seaborn\n",
    "import matplotlib.pyplot as plt\n",
    "import seaborn as sns\n",
    "\n",
    "# Data Visualization\n",
    "\n",
    "# Set the aesthetic style of the plots\n",
    "sns.set_style(\"whitegrid\")\n",
    "\n",
    "# Ensure the DataFrame has the correct columns\n",
    "if all(col in df.columns for col in ['column1', 'column2', 'column3']):\n",
    "\t# Plot a histogram of a specific column\n",
    "\tplt.figure(figsize=(10, 6))\n",
    "\tsns.histplot(df['column1'], bins=30, kde=True)\n",
    "\tplt.title('Histogram of Column1')\n",
    "\tplt.xlabel('Column1')\n",
    "\tplt.ylabel('Frequency')\n",
    "\tplt.show()\n",
    "\n",
    "\t# Plot a scatter plot between two columns\n",
    "\tplt.figure(figsize=(10, 6))\n",
    "\tsns.scatterplot(x='column1', y='column2', data=df)\n",
    "\tplt.title('Scatter Plot of Column1 vs Column2')\n",
    "\tplt.xlabel('Column1')\n",
    "\tplt.ylabel('Column2')\n",
    "\tplt.show()\n",
    "\n",
    "\t# Plot a box plot of a specific column\n",
    "\tplt.figure(figsize=(10, 6))\n",
    "\tsns.boxplot(x='column3', y='column2', data=df)\n",
    "\tplt.title('Box Plot of Column2 by Column3')\n",
    "\tplt.xlabel('Column3')\n",
    "\tplt.ylabel('Column2')\n",
    "\tplt.show()\n",
    "\n",
    "\t# Plot a heatmap of the correlation matrix\n",
    "\tplt.figure(figsize=(12, 8))\n",
    "\tcorrelation_matrix = df.corr()\n",
    "\tsns.heatmap(correlation_matrix, annot=True, cmap='coolwarm', linewidths=0.5)\n",
    "\tplt.title('Heatmap of Correlation Matrix')\n",
    "\tplt.show()\n",
    "else:\n",
    "\tprint(\"The DataFrame does not contain the required columns: 'column1', 'column2', 'column3'\")"
   ]
  }
 ],
 "metadata": {
  "kernelspec": {
   "display_name": "myenv",
   "language": "python",
   "name": "python3"
  },
  "language_info": {
   "codemirror_mode": {
    "name": "ipython",
    "version": 3
   },
   "file_extension": ".py",
   "mimetype": "text/x-python",
   "name": "python",
   "nbconvert_exporter": "python",
   "pygments_lexer": "ipython3",
   "version": "3.13.0"
  }
 },
 "nbformat": 4,
 "nbformat_minor": 2
}

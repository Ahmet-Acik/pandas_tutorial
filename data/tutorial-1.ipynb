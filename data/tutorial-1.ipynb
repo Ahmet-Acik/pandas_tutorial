{
 "cells": [
  {
   "cell_type": "markdown",
   "metadata": {},
   "source": [
    "# Import Required Libraries\n",
    "Import the necessary libraries, including Pandas and NumPy."
   ]
  },
  {
   "cell_type": "code",
   "execution_count": 6,
   "metadata": {},
   "outputs": [],
   "source": [
    "# Import the necessary libraries, including Pandas and NumPy\n",
    "import pandas as pd\n",
    "import numpy as np"
   ]
  },
  {
   "cell_type": "markdown",
   "metadata": {},
   "source": [
    "# Load Data into DataFrame\n",
    "Load data from a CSV file into a Pandas DataFrame."
   ]
  },
  {
   "cell_type": "code",
   "execution_count": 7,
   "metadata": {},
   "outputs": [
    {
     "data": {
      "text/html": [
       "<div>\n",
       "<style scoped>\n",
       "    .dataframe tbody tr th:only-of-type {\n",
       "        vertical-align: middle;\n",
       "    }\n",
       "\n",
       "    .dataframe tbody tr th {\n",
       "        vertical-align: top;\n",
       "    }\n",
       "\n",
       "    .dataframe thead th {\n",
       "        text-align: right;\n",
       "    }\n",
       "</style>\n",
       "<table border=\"1\" class=\"dataframe\">\n",
       "  <thead>\n",
       "    <tr style=\"text-align: right;\">\n",
       "      <th></th>\n",
       "      <th>id</th>\n",
       "      <th>name</th>\n",
       "      <th>age</th>\n",
       "      <th>department</th>\n",
       "      <th>salary</th>\n",
       "    </tr>\n",
       "  </thead>\n",
       "  <tbody>\n",
       "    <tr>\n",
       "      <th>0</th>\n",
       "      <td>1</td>\n",
       "      <td>John Doe</td>\n",
       "      <td>28</td>\n",
       "      <td>Engineering</td>\n",
       "      <td>70000</td>\n",
       "    </tr>\n",
       "    <tr>\n",
       "      <th>1</th>\n",
       "      <td>2</td>\n",
       "      <td>Jane Smith</td>\n",
       "      <td>34</td>\n",
       "      <td>Marketing</td>\n",
       "      <td>80000</td>\n",
       "    </tr>\n",
       "    <tr>\n",
       "      <th>2</th>\n",
       "      <td>3</td>\n",
       "      <td>Emily Davis</td>\n",
       "      <td>22</td>\n",
       "      <td>Sales</td>\n",
       "      <td>45000</td>\n",
       "    </tr>\n",
       "    <tr>\n",
       "      <th>3</th>\n",
       "      <td>4</td>\n",
       "      <td>Michael Brown</td>\n",
       "      <td>45</td>\n",
       "      <td>HR</td>\n",
       "      <td>60000</td>\n",
       "    </tr>\n",
       "    <tr>\n",
       "      <th>4</th>\n",
       "      <td>5</td>\n",
       "      <td>Jessica Wilson</td>\n",
       "      <td>30</td>\n",
       "      <td>Engineering</td>\n",
       "      <td>75000</td>\n",
       "    </tr>\n",
       "  </tbody>\n",
       "</table>\n",
       "</div>"
      ],
      "text/plain": [
       "   id            name  age   department  salary\n",
       "0   1        John Doe   28  Engineering   70000\n",
       "1   2      Jane Smith   34    Marketing   80000\n",
       "2   3     Emily Davis   22        Sales   45000\n",
       "3   4   Michael Brown   45           HR   60000\n",
       "4   5  Jessica Wilson   30  Engineering   75000"
      ]
     },
     "execution_count": 7,
     "metadata": {},
     "output_type": "execute_result"
    }
   ],
   "source": [
    "# Load Data into DataFrame\n",
    "\n",
    "# Load data from a CSV file into a Pandas DataFrame\n",
    "df = pd.read_csv('data.csv')\n",
    "\n",
    "# Display the first few rows of the DataFrame\n",
    "df.head()"
   ]
  },
  {
   "cell_type": "markdown",
   "metadata": {},
   "source": [
    "# DataFrame Basic Operations\n",
    "Perform basic operations on the DataFrame, such as selecting columns, filtering rows, and sorting data."
   ]
  },
  {
   "cell_type": "code",
   "execution_count": 9,
   "metadata": {},
   "outputs": [
    {
     "name": "stdout",
     "output_type": "stream",
     "text": [
      "\n",
      "Selected columns (name, department):\n",
      "             name   department\n",
      "0        John Doe  Engineering\n",
      "1      Jane Smith    Marketing\n",
      "2     Emily Davis        Sales\n",
      "3   Michael Brown           HR\n",
      "4  Jessica Wilson  Engineering\n",
      "\n",
      "Filtered rows where salary > 60000:\n",
      "   id             name  age   department  salary\n",
      "0   1         John Doe   28  Engineering   70000\n",
      "1   2       Jane Smith   34    Marketing   80000\n",
      "4   5   Jessica Wilson   30  Engineering   75000\n",
      "5   6  Daniel Martinez   40    Marketing   85000\n",
      "7   8   James Anderson   50           HR   65000\n"
     ]
    }
   ],
   "source": [
    "import pandas as pd\n",
    "\n",
    "# DataFrame Basic Operations\n",
    "\n",
    "# Select specific columns from the DataFrame\n",
    "selected_columns = df[['name', 'department']]\n",
    "print(\"\\nSelected columns (name, department):\")\n",
    "print(selected_columns.head())\n",
    "\n",
    "# Filter rows based on a condition\n",
    "filtered_rows = df[df['salary'] > 60000]\n",
    "print(\"\\nFiltered rows where salary > 60000:\")\n",
    "print(filtered_rows.head())"
   ]
  },
  {
   "cell_type": "markdown",
   "metadata": {},
   "source": [
    "# Data Cleaning\n",
    "Clean the data by handling missing values, removing duplicates, and transforming data types."
   ]
  },
  {
   "cell_type": "code",
   "execution_count": 11,
   "metadata": {},
   "outputs": [
    {
     "name": "stdout",
     "output_type": "stream",
     "text": [
      "\n",
      "Check for missing values:\n",
      "id            0\n",
      "name          0\n",
      "age           0\n",
      "department    0\n",
      "salary        0\n",
      "dtype: int64\n"
     ]
    },
    {
     "data": {
      "text/html": [
       "<div>\n",
       "<style scoped>\n",
       "    .dataframe tbody tr th:only-of-type {\n",
       "        vertical-align: middle;\n",
       "    }\n",
       "\n",
       "    .dataframe tbody tr th {\n",
       "        vertical-align: top;\n",
       "    }\n",
       "\n",
       "    .dataframe thead th {\n",
       "        text-align: right;\n",
       "    }\n",
       "</style>\n",
       "<table border=\"1\" class=\"dataframe\">\n",
       "  <thead>\n",
       "    <tr style=\"text-align: right;\">\n",
       "      <th></th>\n",
       "      <th>id</th>\n",
       "      <th>name</th>\n",
       "      <th>age</th>\n",
       "      <th>department</th>\n",
       "      <th>salary</th>\n",
       "    </tr>\n",
       "  </thead>\n",
       "  <tbody>\n",
       "    <tr>\n",
       "      <th>0</th>\n",
       "      <td>1</td>\n",
       "      <td>John Doe</td>\n",
       "      <td>28</td>\n",
       "      <td>Engineering</td>\n",
       "      <td>70000</td>\n",
       "    </tr>\n",
       "    <tr>\n",
       "      <th>1</th>\n",
       "      <td>2</td>\n",
       "      <td>Jane Smith</td>\n",
       "      <td>34</td>\n",
       "      <td>Marketing</td>\n",
       "      <td>80000</td>\n",
       "    </tr>\n",
       "    <tr>\n",
       "      <th>2</th>\n",
       "      <td>3</td>\n",
       "      <td>Emily Davis</td>\n",
       "      <td>22</td>\n",
       "      <td>Sales</td>\n",
       "      <td>45000</td>\n",
       "    </tr>\n",
       "    <tr>\n",
       "      <th>3</th>\n",
       "      <td>4</td>\n",
       "      <td>Michael Brown</td>\n",
       "      <td>45</td>\n",
       "      <td>HR</td>\n",
       "      <td>60000</td>\n",
       "    </tr>\n",
       "    <tr>\n",
       "      <th>4</th>\n",
       "      <td>5</td>\n",
       "      <td>Jessica Wilson</td>\n",
       "      <td>30</td>\n",
       "      <td>Engineering</td>\n",
       "      <td>75000</td>\n",
       "    </tr>\n",
       "  </tbody>\n",
       "</table>\n",
       "</div>"
      ],
      "text/plain": [
       "   id            name  age   department  salary\n",
       "0   1        John Doe   28  Engineering   70000\n",
       "1   2      Jane Smith   34    Marketing   80000\n",
       "2   3     Emily Davis   22        Sales   45000\n",
       "3   4   Michael Brown   45           HR   60000\n",
       "4   5  Jessica Wilson   30  Engineering   75000"
      ]
     },
     "execution_count": 11,
     "metadata": {},
     "output_type": "execute_result"
    }
   ],
   "source": [
    "# Data Cleaning\n",
    "\n",
    "# Check for missing values\n",
    "print(\"\\nCheck for missing values:\")\n",
    "print(df.isnull().sum())\n",
    "\n",
    "# Fill missing values (if any)\n",
    "# df['column_name'].fillna(value, inplace=True)\n",
    "\n",
    "# Display the cleaned DataFrame\n",
    "df.head()"
   ]
  },
  {
   "cell_type": "markdown",
   "metadata": {},
   "source": [
    "# Data Analysis\n",
    "Analyze the data using descriptive statistics, groupby operations, and pivot tables."
   ]
  },
  {
   "cell_type": "code",
   "execution_count": 13,
   "metadata": {},
   "outputs": [
    {
     "name": "stdout",
     "output_type": "stream",
     "text": [
      "\n",
      "Basic statistics of the DataFrame:\n",
      "            id        age        salary\n",
      "count  8.00000   8.000000      8.000000\n",
      "mean   4.50000  34.750000  66250.000000\n",
      "std    2.44949   9.483068  14078.859532\n",
      "min    1.00000  22.000000  45000.000000\n",
      "25%    2.75000  28.750000  57500.000000\n",
      "50%    4.50000  32.000000  67500.000000\n",
      "75%    6.25000  41.250000  76250.000000\n",
      "max    8.00000  50.000000  85000.000000\n",
      "\n",
      "Mean salary by department:\n",
      "department\n",
      "Engineering    72500.0\n",
      "HR             62500.0\n",
      "Marketing      82500.0\n",
      "Sales          47500.0\n",
      "Name: salary, dtype: float64\n"
     ]
    }
   ],
   "source": [
    "# Data Analysis\n",
    "\n",
    "# Calculate basic statistics\n",
    "print(\"\\nBasic statistics of the DataFrame:\")\n",
    "print(df.describe())\n",
    "\n",
    "# Group by department and calculate mean salary\n",
    "mean_salary_by_department = df.groupby('department')['salary'].mean()\n",
    "print(\"\\nMean salary by department:\")\n",
    "print(mean_salary_by_department)"
   ]
  },
  {
   "cell_type": "markdown",
   "metadata": {},
   "source": [
    "# Data Visualization\n",
    "Visualize the data using libraries such as Matplotlib and Seaborn."
   ]
  },
  {
   "cell_type": "code",
   "execution_count": 1,
   "metadata": {},
   "outputs": [
    {
     "ename": "NameError",
     "evalue": "name 'mean_salary_by_department' is not defined",
     "output_type": "error",
     "traceback": [
      "\u001b[0;31m---------------------------------------------------------------------------\u001b[0m",
      "\u001b[0;31mNameError\u001b[0m                                 Traceback (most recent call last)",
      "Cell \u001b[0;32mIn[1], line 6\u001b[0m\n\u001b[1;32m      3\u001b[0m \u001b[38;5;28;01mimport\u001b[39;00m \u001b[38;5;21;01mmatplotlib\u001b[39;00m\u001b[38;5;21;01m.\u001b[39;00m\u001b[38;5;21;01mpyplot\u001b[39;00m \u001b[38;5;28;01mas\u001b[39;00m \u001b[38;5;21;01mplt\u001b[39;00m\n\u001b[1;32m      5\u001b[0m \u001b[38;5;66;03m# Plot mean salary by department\u001b[39;00m\n\u001b[0;32m----> 6\u001b[0m \u001b[43mmean_salary_by_department\u001b[49m\u001b[38;5;241m.\u001b[39mplot(kind\u001b[38;5;241m=\u001b[39m\u001b[38;5;124m'\u001b[39m\u001b[38;5;124mbar\u001b[39m\u001b[38;5;124m'\u001b[39m)\n\u001b[1;32m      7\u001b[0m plt\u001b[38;5;241m.\u001b[39mtitle(\u001b[38;5;124m'\u001b[39m\u001b[38;5;124mMean Salary by Department\u001b[39m\u001b[38;5;124m'\u001b[39m)\n\u001b[1;32m      8\u001b[0m plt\u001b[38;5;241m.\u001b[39mxlabel(\u001b[38;5;124m'\u001b[39m\u001b[38;5;124mDepartment\u001b[39m\u001b[38;5;124m'\u001b[39m)\n",
      "\u001b[0;31mNameError\u001b[0m: name 'mean_salary_by_department' is not defined"
     ]
    }
   ],
   "source": [
    "# Data Visualization\n",
    "\n",
    "import matplotlib.pyplot as plt\n",
    "\n",
    "# Plot mean salary by department\n",
    "mean_salary_by_department.plot(kind='bar')\n",
    "plt.title('Mean Salary by Department')\n",
    "plt.xlabel('Department')\n",
    "plt.ylabel('Mean Salary')\n",
    "plt.show()"
   ]
  },
  {
   "cell_type": "code",
   "execution_count": 1,
   "metadata": {},
   "outputs": [
    {
     "name": "stdout",
     "output_type": "stream",
     "text": [
      "First few rows of the DataFrame:\n",
      "                   filepath: data.csv\n",
      "id column1 column2            column3\n",
      "1  10      100                      A\n",
      "2  20      200                      B\n",
      "3  30      300                      A\n",
      "4  40      400                      B\n"
     ]
    },
    {
     "ename": "KeyError",
     "evalue": "\"None of [Index(['name', 'department'], dtype='object')] are in the [columns]\"",
     "output_type": "error",
     "traceback": [
      "\u001b[0;31m---------------------------------------------------------------------------\u001b[0m",
      "\u001b[0;31mKeyError\u001b[0m                                  Traceback (most recent call last)",
      "Cell \u001b[0;32mIn[1], line 14\u001b[0m\n\u001b[1;32m      9\u001b[0m \u001b[38;5;28mprint\u001b[39m(df\u001b[38;5;241m.\u001b[39mhead())\n\u001b[1;32m     11\u001b[0m \u001b[38;5;66;03m# DataFrame Basic Operations\u001b[39;00m\n\u001b[1;32m     12\u001b[0m \n\u001b[1;32m     13\u001b[0m \u001b[38;5;66;03m# Select specific columns from the DataFrame\u001b[39;00m\n\u001b[0;32m---> 14\u001b[0m selected_columns \u001b[38;5;241m=\u001b[39m \u001b[43mdf\u001b[49m\u001b[43m[\u001b[49m\u001b[43m[\u001b[49m\u001b[38;5;124;43m'\u001b[39;49m\u001b[38;5;124;43mname\u001b[39;49m\u001b[38;5;124;43m'\u001b[39;49m\u001b[43m,\u001b[49m\u001b[43m \u001b[49m\u001b[38;5;124;43m'\u001b[39;49m\u001b[38;5;124;43mdepartment\u001b[39;49m\u001b[38;5;124;43m'\u001b[39;49m\u001b[43m]\u001b[49m\u001b[43m]\u001b[49m\n\u001b[1;32m     15\u001b[0m \u001b[38;5;28mprint\u001b[39m(\u001b[38;5;124m\"\u001b[39m\u001b[38;5;130;01m\\n\u001b[39;00m\u001b[38;5;124mSelected columns (name, department):\u001b[39m\u001b[38;5;124m\"\u001b[39m)\n\u001b[1;32m     16\u001b[0m \u001b[38;5;28mprint\u001b[39m(selected_columns\u001b[38;5;241m.\u001b[39mhead())\n",
      "File \u001b[0;32m~/Projects/pandas_tutorial/myenv/lib/python3.13/site-packages/pandas/core/frame.py:4108\u001b[0m, in \u001b[0;36mDataFrame.__getitem__\u001b[0;34m(self, key)\u001b[0m\n\u001b[1;32m   4106\u001b[0m     \u001b[38;5;28;01mif\u001b[39;00m is_iterator(key):\n\u001b[1;32m   4107\u001b[0m         key \u001b[38;5;241m=\u001b[39m \u001b[38;5;28mlist\u001b[39m(key)\n\u001b[0;32m-> 4108\u001b[0m     indexer \u001b[38;5;241m=\u001b[39m \u001b[38;5;28;43mself\u001b[39;49m\u001b[38;5;241;43m.\u001b[39;49m\u001b[43mcolumns\u001b[49m\u001b[38;5;241;43m.\u001b[39;49m\u001b[43m_get_indexer_strict\u001b[49m\u001b[43m(\u001b[49m\u001b[43mkey\u001b[49m\u001b[43m,\u001b[49m\u001b[43m \u001b[49m\u001b[38;5;124;43m\"\u001b[39;49m\u001b[38;5;124;43mcolumns\u001b[39;49m\u001b[38;5;124;43m\"\u001b[39;49m\u001b[43m)\u001b[49m[\u001b[38;5;241m1\u001b[39m]\n\u001b[1;32m   4110\u001b[0m \u001b[38;5;66;03m# take() does not accept boolean indexers\u001b[39;00m\n\u001b[1;32m   4111\u001b[0m \u001b[38;5;28;01mif\u001b[39;00m \u001b[38;5;28mgetattr\u001b[39m(indexer, \u001b[38;5;124m\"\u001b[39m\u001b[38;5;124mdtype\u001b[39m\u001b[38;5;124m\"\u001b[39m, \u001b[38;5;28;01mNone\u001b[39;00m) \u001b[38;5;241m==\u001b[39m \u001b[38;5;28mbool\u001b[39m:\n",
      "File \u001b[0;32m~/Projects/pandas_tutorial/myenv/lib/python3.13/site-packages/pandas/core/indexes/base.py:6200\u001b[0m, in \u001b[0;36mIndex._get_indexer_strict\u001b[0;34m(self, key, axis_name)\u001b[0m\n\u001b[1;32m   6197\u001b[0m \u001b[38;5;28;01melse\u001b[39;00m:\n\u001b[1;32m   6198\u001b[0m     keyarr, indexer, new_indexer \u001b[38;5;241m=\u001b[39m \u001b[38;5;28mself\u001b[39m\u001b[38;5;241m.\u001b[39m_reindex_non_unique(keyarr)\n\u001b[0;32m-> 6200\u001b[0m \u001b[38;5;28;43mself\u001b[39;49m\u001b[38;5;241;43m.\u001b[39;49m\u001b[43m_raise_if_missing\u001b[49m\u001b[43m(\u001b[49m\u001b[43mkeyarr\u001b[49m\u001b[43m,\u001b[49m\u001b[43m \u001b[49m\u001b[43mindexer\u001b[49m\u001b[43m,\u001b[49m\u001b[43m \u001b[49m\u001b[43maxis_name\u001b[49m\u001b[43m)\u001b[49m\n\u001b[1;32m   6202\u001b[0m keyarr \u001b[38;5;241m=\u001b[39m \u001b[38;5;28mself\u001b[39m\u001b[38;5;241m.\u001b[39mtake(indexer)\n\u001b[1;32m   6203\u001b[0m \u001b[38;5;28;01mif\u001b[39;00m \u001b[38;5;28misinstance\u001b[39m(key, Index):\n\u001b[1;32m   6204\u001b[0m     \u001b[38;5;66;03m# GH 42790 - Preserve name from an Index\u001b[39;00m\n",
      "File \u001b[0;32m~/Projects/pandas_tutorial/myenv/lib/python3.13/site-packages/pandas/core/indexes/base.py:6249\u001b[0m, in \u001b[0;36mIndex._raise_if_missing\u001b[0;34m(self, key, indexer, axis_name)\u001b[0m\n\u001b[1;32m   6247\u001b[0m \u001b[38;5;28;01mif\u001b[39;00m nmissing:\n\u001b[1;32m   6248\u001b[0m     \u001b[38;5;28;01mif\u001b[39;00m nmissing \u001b[38;5;241m==\u001b[39m \u001b[38;5;28mlen\u001b[39m(indexer):\n\u001b[0;32m-> 6249\u001b[0m         \u001b[38;5;28;01mraise\u001b[39;00m \u001b[38;5;167;01mKeyError\u001b[39;00m(\u001b[38;5;124mf\u001b[39m\u001b[38;5;124m\"\u001b[39m\u001b[38;5;124mNone of [\u001b[39m\u001b[38;5;132;01m{\u001b[39;00mkey\u001b[38;5;132;01m}\u001b[39;00m\u001b[38;5;124m] are in the [\u001b[39m\u001b[38;5;132;01m{\u001b[39;00maxis_name\u001b[38;5;132;01m}\u001b[39;00m\u001b[38;5;124m]\u001b[39m\u001b[38;5;124m\"\u001b[39m)\n\u001b[1;32m   6251\u001b[0m     not_found \u001b[38;5;241m=\u001b[39m \u001b[38;5;28mlist\u001b[39m(ensure_index(key)[missing_mask\u001b[38;5;241m.\u001b[39mnonzero()[\u001b[38;5;241m0\u001b[39m]]\u001b[38;5;241m.\u001b[39munique())\n\u001b[1;32m   6252\u001b[0m     \u001b[38;5;28;01mraise\u001b[39;00m \u001b[38;5;167;01mKeyError\u001b[39;00m(\u001b[38;5;124mf\u001b[39m\u001b[38;5;124m\"\u001b[39m\u001b[38;5;132;01m{\u001b[39;00mnot_found\u001b[38;5;132;01m}\u001b[39;00m\u001b[38;5;124m not in index\u001b[39m\u001b[38;5;124m\"\u001b[39m)\n",
      "\u001b[0;31mKeyError\u001b[0m: \"None of [Index(['name', 'department'], dtype='object')] are in the [columns]\""
     ]
    }
   ],
   "source": [
    "# Import Required Libraries\n",
    "import pandas as pd\n",
    "\n",
    "# Load Data into DataFrame\n",
    "df = pd.read_csv('data2.csv')\n",
    "\n",
    "# Display the first few rows of the DataFrame\n",
    "print(\"First few rows of the DataFrame:\")\n",
    "print(df.head())\n",
    "\n",
    "# DataFrame Basic Operations\n",
    "\n",
    "# Select specific columns from the DataFrame\n",
    "selected_columns = df[['name', 'department']]\n",
    "print(\"\\nSelected columns (name, department):\")\n",
    "print(selected_columns.head())\n",
    "\n",
    "# Filter rows based on a condition\n",
    "filtered_rows = df[df['salary'] > 60000]\n",
    "print(\"\\nFiltered rows where salary > 60000:\")\n",
    "print(filtered_rows.head())\n",
    "\n",
    "# Data Cleaning\n",
    "\n",
    "# Check for missing values\n",
    "print(\"\\nCheck for missing values:\")\n",
    "print(df.isnull().sum())\n",
    "\n",
    "# Fill missing values (if any)\n",
    "# df['column_name'].fillna(value, inplace=True)\n",
    "\n",
    "# Data Analysis\n",
    "\n",
    "# Calculate basic statistics\n",
    "print(\"\\nBasic statistics of the DataFrame:\")\n",
    "print(df.describe())\n",
    "\n",
    "# Group by department and calculate mean salary\n",
    "mean_salary_by_department = df.groupby('department')['salary'].mean()\n",
    "print(\"\\nMean salary by department:\")\n",
    "print(mean_salary_by_department)\n",
    "\n",
    "# Data Visualization\n",
    "\n",
    "import matplotlib.pyplot as plt\n",
    "\n",
    "# Plot mean salary by department\n",
    "mean_salary_by_department.plot(kind='bar')\n",
    "plt.title('Mean Salary by Department')\n",
    "plt.xlabel('Department')\n",
    "plt.ylabel('Mean Salary')\n",
    "plt.show()"
   ]
  }
 ],
 "metadata": {
  "kernelspec": {
   "display_name": "myenv",
   "language": "python",
   "name": "python3"
  },
  "language_info": {
   "codemirror_mode": {
    "name": "ipython",
    "version": 3
   },
   "file_extension": ".py",
   "mimetype": "text/x-python",
   "name": "python",
   "nbconvert_exporter": "python",
   "pygments_lexer": "ipython3",
   "version": "3.13.0"
  }
 },
 "nbformat": 4,
 "nbformat_minor": 2
}
